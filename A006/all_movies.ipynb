{
 "cells": [
  {
   "cell_type": "code",
   "execution_count": 19,
   "metadata": {},
   "outputs": [],
   "source": [
    "from selenium import webdriver\n",
    "import pandas as pd\n",
    "import time"
   ]
  },
  {
   "cell_type": "code",
   "execution_count": 20,
   "metadata": {},
   "outputs": [
    {
     "name": "stderr",
     "output_type": "stream",
     "text": [
      "C:\\Users\\victor.goncalves\\AppData\\Local\\Temp\\ipykernel_17452\\3253966977.py:1: DeprecationWarning: executable_path has been deprecated, please pass in a Service object\n",
      "  driver = webdriver.Chrome('.\\src\\chromedriver.exe')\n"
     ]
    }
   ],
   "source": [
    "driver = webdriver.Chrome('.\\src\\chromedriver.exe')\n",
    "time.sleep(3)\n",
    "#driver.implicitly_wait(3)\n",
    "driver.get('https://pt.wikipedia.org/wiki/Nicolas_Cage')"
   ]
  },
  {
   "cell_type": "code",
   "execution_count": 21,
   "metadata": {},
   "outputs": [],
   "source": [
    "def tem_intem_xpath(xpath, driver = driver):\n",
    "    try:\n",
    "        driver.find_element('xpath', xpath)\n",
    "        return True\n",
    "    except:\n",
    "        return False"
   ]
  },
  {
   "cell_type": "code",
   "execution_count": 22,
   "metadata": {},
   "outputs": [],
   "source": [
    "tb_filmes = '//*[@id=\"mw-content-text\"]/div[1]/table[2]'"
   ]
  },
  {
   "cell_type": "code",
   "execution_count": 23,
   "metadata": {},
   "outputs": [],
   "source": [
    "if not tem_intem_xpath(tb_filmes):\n",
    "    print('Ok')\n",
    "\n",
    "# tentativas de buscar o item enquanto a página carrega\n",
    "i = 0\n",
    "while not tem_intem_xpath(tb_filmes):\n",
    "    i += 1\n",
    "    time.sleep(1)\n",
    "    if i > 50:\n",
    "        break\n",
    "    print(f\"Tentativa: {i}\")\n",
    "    pass"
   ]
  },
  {
   "cell_type": "code",
   "execution_count": 24,
   "metadata": {},
   "outputs": [],
   "source": [
    "tabela = driver.find_element('xpath', '//*[@id=\"mw-content-text\"]/div[1]/table[2]')\n",
    "df = pd.read_html('<table>' + tabela.get_attribute('innerHTML') + '</table>')[0]"
   ]
  },
  {
   "cell_type": "code",
   "execution_count": 25,
   "metadata": {},
   "outputs": [],
   "source": [
    "# o with vai garantir que o aquivo esteja aberto enquanto o laço estiver rodando\n",
    "# wb = write in bytes\n",
    "with open('print.png', 'wb') as f:\n",
    "    f.write(driver.find_element('xpath', '/html/body/div').screenshot_as_png)"
   ]
  },
  {
   "cell_type": "code",
   "execution_count": 26,
   "metadata": {},
   "outputs": [],
   "source": [
    "driver.close()"
   ]
  },
  {
   "cell_type": "code",
   "execution_count": 27,
   "metadata": {},
   "outputs": [
    {
     "data": {
      "text/html": [
       "<div>\n",
       "<style scoped>\n",
       "    .dataframe tbody tr th:only-of-type {\n",
       "        vertical-align: middle;\n",
       "    }\n",
       "\n",
       "    .dataframe tbody tr th {\n",
       "        vertical-align: top;\n",
       "    }\n",
       "\n",
       "    .dataframe thead th {\n",
       "        text-align: right;\n",
       "    }\n",
       "</style>\n",
       "<table border=\"1\" class=\"dataframe\">\n",
       "  <thead>\n",
       "    <tr style=\"text-align: right;\">\n",
       "      <th></th>\n",
       "      <th>Ano</th>\n",
       "      <th>Título original</th>\n",
       "      <th>Título em português</th>\n",
       "      <th>Papel</th>\n",
       "      <th>Notas</th>\n",
       "    </tr>\n",
       "  </thead>\n",
       "  <tbody>\n",
       "    <tr>\n",
       "      <th>3</th>\n",
       "      <td>1984</td>\n",
       "      <td>Racing with the Moon</td>\n",
       "      <td>Adeus à Inocência</td>\n",
       "      <td>Nicky e Bud</td>\n",
       "      <td>NaN</td>\n",
       "    </tr>\n",
       "    <tr>\n",
       "      <th>4</th>\n",
       "      <td>1984</td>\n",
       "      <td>The Cotton Club</td>\n",
       "      <td>NaN</td>\n",
       "      <td>Vincent Dwyer</td>\n",
       "      <td>NaN</td>\n",
       "    </tr>\n",
       "    <tr>\n",
       "      <th>5</th>\n",
       "      <td>1984</td>\n",
       "      <td>Birdy</td>\n",
       "      <td>NaN</td>\n",
       "      <td>Sargento Al Columbato</td>\n",
       "      <td>NaN</td>\n",
       "    </tr>\n",
       "  </tbody>\n",
       "</table>\n",
       "</div>"
      ],
      "text/plain": [
       "    Ano       Título original Título em português                  Papel Notas\n",
       "3  1984  Racing with the Moon   Adeus à Inocência            Nicky e Bud   NaN\n",
       "4  1984       The Cotton Club                 NaN          Vincent Dwyer   NaN\n",
       "5  1984                 Birdy                 NaN  Sargento Al Columbato   NaN"
      ]
     },
     "execution_count": 27,
     "metadata": {},
     "output_type": "execute_result"
    }
   ],
   "source": [
    "df[df['Ano']==1984]"
   ]
  },
  {
   "cell_type": "code",
   "execution_count": 32,
   "metadata": {},
   "outputs": [],
   "source": [
    "df.to_csv('filmes_Nicolas_cage.csv', sep=';', index=False)"
   ]
  }
 ],
 "metadata": {
  "kernelspec": {
   "display_name": "Python 3.9.13 64-bit (microsoft store)",
   "language": "python",
   "name": "python3"
  },
  "language_info": {
   "codemirror_mode": {
    "name": "ipython",
    "version": 3
   },
   "file_extension": ".py",
   "mimetype": "text/x-python",
   "name": "python",
   "nbconvert_exporter": "python",
   "pygments_lexer": "ipython3",
   "version": "3.9.13"
  },
  "orig_nbformat": 4,
  "vscode": {
   "interpreter": {
    "hash": "0ad9f4fdc47696da67611bc12ad611df8646d98b604ace3f565e97b227340223"
   }
  }
 },
 "nbformat": 4,
 "nbformat_minor": 2
}
