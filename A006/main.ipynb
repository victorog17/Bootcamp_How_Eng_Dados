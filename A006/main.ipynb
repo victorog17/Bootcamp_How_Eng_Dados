{
 "cells": [
  {
   "cell_type": "code",
   "execution_count": 1,
   "metadata": {},
   "outputs": [],
   "source": [
    "from selenium import webdriver\n",
    "import time\n",
    "import sys"
   ]
  },
  {
   "cell_type": "code",
   "execution_count": 2,
   "metadata": {},
   "outputs": [],
   "source": [
    "cep = sys.argv[1]"
   ]
  },
  {
   "cell_type": "code",
   "execution_count": 3,
   "metadata": {},
   "outputs": [
    {
     "name": "stderr",
     "output_type": "stream",
     "text": [
      "C:\\Users\\victor.goncalves\\AppData\\Local\\Temp\\ipykernel_20564\\916880562.py:1: DeprecationWarning: executable_path has been deprecated, please pass in a Service object\n",
      "  driver = webdriver.Chrome('.\\src\\chromedriver.exe')\n"
     ]
    }
   ],
   "source": [
    "driver = webdriver.Chrome('.\\src\\chromedriver.exe')"
   ]
  },
  {
   "cell_type": "code",
   "execution_count": 4,
   "metadata": {},
   "outputs": [],
   "source": [
    "# Acesso ao site da How\n",
    "# driver.get('https://howedu.com.br/')\n",
    "# driver.find_element('xpath', '//*[@id=\"bootcamps\"]/div/div/div/div[2]/div/div/div/div[3]/div/div/section/div/div/div/div[1]/div/div/img').click()\n",
    "# driver.find_element('xpath', '//*[@id=\"page\"]/div[1]/div/section/div/div[1]/div/div/div/a/img').click()"
   ]
  },
  {
   "cell_type": "code",
   "execution_count": 5,
   "metadata": {},
   "outputs": [],
   "source": [
    "#Acesso ao site dos Correios\n",
    "driver.get('https://buscacepinter.correios.com.br/app/endereco/index.php?t')\n",
    "elem_cep = driver.find_element('name', 'endereco')\n",
    "elem_cep.clear()\n",
    "elem_cep.send_keys('80420130')"
   ]
  },
  {
   "cell_type": "code",
   "execution_count": 6,
   "metadata": {},
   "outputs": [],
   "source": [
    "# Procurando CEP\n",
    "elem_cmb = driver.find_element('name', 'tipoCEP')\n",
    "elem_cmb.click()\n",
    "driver.find_element('xpath', '//*[@id=\"tipoCEP\"]/optgroup/option[6]')\n",
    "driver.find_element('name', 'btn_pesquisar').click()"
   ]
  },
  {
   "cell_type": "code",
   "execution_count": 8,
   "metadata": {},
   "outputs": [],
   "source": [
    "# Extraindo Informações do CEP\n",
    "logradouro = driver.find_element('xpath', '//*[@id=\"resultado-DNEC\"]/tbody/tr/td[1]').text\n",
    "bairro = driver.find_element('xpath', '//*[@id=\"resultado-DNEC\"]/tbody/tr/td[2]').text\n",
    "localidade = driver.find_element('xpath', '//*[@id=\"resultado-DNEC\"]/tbody/tr/td[3]').text"
   ]
  },
  {
   "cell_type": "code",
   "execution_count": 9,
   "metadata": {},
   "outputs": [],
   "source": [
    "driver.close()"
   ]
  },
  {
   "cell_type": "code",
   "execution_count": 10,
   "metadata": {},
   "outputs": [
    {
     "name": "stdout",
     "output_type": "stream",
     "text": [
      "\n",
      "Para o CEP --ip=127.0.0.1 temos:\n",
      "\n",
      "Endereço: Rua Francisco Rocha\n",
      "Bairro: Batel\n",
      "Localidade: Curitiba/PR\n",
      "\n"
     ]
    }
   ],
   "source": [
    "print(f\"\"\"\n",
    "Para o CEP {cep} temos:\n",
    "\n",
    "Endereço: {logradouro.split(' - ')[0]}\n",
    "Bairro: {bairro}\n",
    "Localidade: {localidade}\n",
    "\"\"\")"
   ]
  },
  {
   "cell_type": "code",
   "execution_count": null,
   "metadata": {},
   "outputs": [
    {
     "data": {
      "text/plain": [
       "'Rua Francisco Rocha'"
      ]
     },
     "execution_count": 46,
     "metadata": {},
     "output_type": "execute_result"
    }
   ],
   "source": [
    "logradouro.split(' - ')[0]"
   ]
  },
  {
   "cell_type": "code",
   "execution_count": null,
   "metadata": {},
   "outputs": [],
   "source": []
  }
 ],
 "metadata": {
  "kernelspec": {
   "display_name": "Python 3.9.13 64-bit (microsoft store)",
   "language": "python",
   "name": "python3"
  },
  "language_info": {
   "codemirror_mode": {
    "name": "ipython",
    "version": 3
   },
   "file_extension": ".py",
   "mimetype": "text/x-python",
   "name": "python",
   "nbconvert_exporter": "python",
   "pygments_lexer": "ipython3",
   "version": "3.9.13"
  },
  "orig_nbformat": 4,
  "vscode": {
   "interpreter": {
    "hash": "0ad9f4fdc47696da67611bc12ad611df8646d98b604ace3f565e97b227340223"
   }
  }
 },
 "nbformat": 4,
 "nbformat_minor": 2
}
